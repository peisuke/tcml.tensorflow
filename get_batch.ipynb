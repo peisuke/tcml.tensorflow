{
 "cells": [
  {
   "cell_type": "code",
   "execution_count": 1,
   "metadata": {
    "collapsed": true
   },
   "outputs": [],
   "source": [
    "import tqdm\n",
    "import numpy as np"
   ]
  },
  {
   "cell_type": "code",
   "execution_count": 2,
   "metadata": {
    "collapsed": true
   },
   "outputs": [],
   "source": [
    "data = np.load('data.npy')\n",
    "data = np.reshape(data,[-1,20,28,28])\n",
    "train_data = data[:1200,:,:,:]\n",
    "test_data = data[1200:,:,:,:]"
   ]
  },
  {
   "cell_type": "code",
   "execution_count": 3,
   "metadata": {
    "collapsed": true
   },
   "outputs": [],
   "source": [
    "def get_minibatch(nb_batch, nb_episode, nb_class, data):\n",
    "    dshape = data.shape[2:]\n",
    "    batch_x = np.zeros((nb_batch, nb_episode) + dshape)\n",
    "    batch_test = np.zeros((nb_batch, nb_episode, 2))\n",
    "    batch_y = np.zeros((nb_batch, nb_episode), np.int)\n",
    "    batch_mask = np.ones((nb_batch, nb_episode), np.bool)\n",
    "    nb_class_total = len(data)\n",
    "    \n",
    "    for i in range(nb_batch):\n",
    "        # classes for learning\n",
    "        classes = np.random.choice(nb_class_total, nb_class, False)\n",
    "        \n",
    "        # index to class\n",
    "        # class_idx is classes[pinds[i]]\n",
    "        pidx = np.random.permutation(nb_class)\n",
    "        \n",
    "        # sample data\n",
    "        sample = np.random.randint(0, nb_class, nb_episode)\n",
    "        batch_y[i] = sample\n",
    "        \n",
    "        _, first = np.unique(sample, return_index=True)\n",
    "        mask = np.ones(nb_episode, np.bool)\n",
    "        mask[first] = False\n",
    "        batch_mask[i] = mask\n",
    "        \n",
    "        for j in range(nb_class):\n",
    "            idx = (sample == j)\n",
    "            eidx = np.random.choice(data.shape[1], np.sum(sample == j), False)\n",
    "            batch_x[i, idx] = data[classes[pidx[j]], eidx]\n",
    "            batch_test[i, idx, 0] = classes[pidx[j]]\n",
    "            batch_test[i, idx, 1] = eidx\n",
    "            \n",
    "        return batch_x, batch_y, batch_mask, batch_test"
   ]
  },
  {
   "cell_type": "code",
   "execution_count": 4,
   "metadata": {},
   "outputs": [
    {
     "name": "stderr",
     "output_type": "stream",
     "text": [
      "100%|██████████| 10000/10000 [00:09<00:00, 1088.72it/s]\n"
     ]
    }
   ],
   "source": [
    "nb_nb_batch = 1\n",
    "nb_episode = 32\n",
    "nb_class = 5\n",
    "\n",
    "for iter in tqdm.tqdm(range(10000)):\n",
    "    batch_x, batch_y, batch_m, batch_test = get_minibatch(nb_nb_batch, nb_episode, nb_class, train_data)\n",
    "\n",
    "    # test\n",
    "    for i in range(nb_class):\n",
    "        idx = batch_y == i\n",
    "        if np.sum(idx) > 0:\n",
    "            t = batch_test[idx][:,0]\n",
    "            assert(((t - t[0]) == 0).all())        \n",
    "            assert(len(np.unique(batch_test[idx][:,1])) == len(batch_test[idx][:,1]))\n",
    "            \n",
    "            fidx = np.where(batch_y==i)[1][0]\n",
    "            ridx = np.where(batch_y==i)[1][1:]\n",
    "            assert(batch_m[0][fidx] == False)\n",
    "            assert(batch_m[0][ridx].all())"
   ]
  },
  {
   "cell_type": "code",
   "execution_count": 5,
   "metadata": {},
   "outputs": [
    {
     "name": "stdout",
     "output_type": "stream",
     "text": [
      "test passed!!\n"
     ]
    }
   ],
   "source": [
    "print(\"test passed!!\")"
   ]
  },
  {
   "cell_type": "code",
   "execution_count": 6,
   "metadata": {
    "collapsed": true
   },
   "outputs": [],
   "source": [
    "batch_x, batch_y, batch_m, _ = get_minibatch(nb_nb_batch, nb_episode, nb_class, train_data)"
   ]
  },
  {
   "cell_type": "code",
   "execution_count": null,
   "metadata": {
    "collapsed": true
   },
   "outputs": [],
   "source": []
  }
 ],
 "metadata": {
  "kernelspec": {
   "display_name": "Python 3",
   "language": "python",
   "name": "python3"
  },
  "language_info": {
   "codemirror_mode": {
    "name": "ipython",
    "version": 3
   },
   "file_extension": ".py",
   "mimetype": "text/x-python",
   "name": "python",
   "nbconvert_exporter": "python",
   "pygments_lexer": "ipython3",
   "version": "3.6.1"
  }
 },
 "nbformat": 4,
 "nbformat_minor": 2
}
