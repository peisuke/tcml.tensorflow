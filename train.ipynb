{
 "cells": [
  {
   "cell_type": "code",
   "execution_count": 1,
   "metadata": {
    "collapsed": true
   },
   "outputs": [],
   "source": [
    "import tqdm\n",
    "import numpy as np"
   ]
  },
  {
   "cell_type": "code",
   "execution_count": 2,
   "metadata": {
    "collapsed": true
   },
   "outputs": [],
   "source": [
    "import tensorflow as tf"
   ]
  },
  {
   "cell_type": "code",
   "execution_count": 3,
   "metadata": {
    "collapsed": true
   },
   "outputs": [],
   "source": [
    "data = np.load('data.npy')\n",
    "data = np.reshape(data,[-1,20,28,28])\n",
    "train_data = data[:1200,:,:,:]\n",
    "test_data = data[1200:,:,:,:]"
   ]
  },
  {
   "cell_type": "code",
   "execution_count": 4,
   "metadata": {
    "collapsed": true
   },
   "outputs": [],
   "source": [
    "def make_input(batch_y, nb_batch, nb_class):    \n",
    "    batch_p = (np.arange(nb_class) == batch_y[:,:-1,None]).astype(int)\n",
    "    dummy = np.zeros((nb_batch, 1, nb_class), dtype=np.float32)\n",
    "    return np.concatenate((dummy, batch_p), axis=1)"
   ]
  },
  {
   "cell_type": "code",
   "execution_count": 5,
   "metadata": {
    "collapsed": true
   },
   "outputs": [],
   "source": [
    "def get_minibatch(data, perm, nb_episode):\n",
    "    nb_batch = len(perm)\n",
    "    dshape = data.shape[2:]\n",
    "    \n",
    "    batch_x = np.zeros((nb_batch, nb_episode) + dshape + (1,))\n",
    "    batch_y = np.zeros((nb_batch, nb_episode), dtype=np.int)\n",
    "    batch_mask = np.ones((nb_batch, nb_episode), dtype=np.bool)\n",
    "    \n",
    "    for i in range(nb_batch):\n",
    "        sample = np.random.randint(0, nb_class, nb_episode)\n",
    "        batch_y[i] = sample\n",
    "        \n",
    "        _, first = np.unique(sample, return_index=True)\n",
    "        mask = np.ones(nb_episode, np.bool)\n",
    "        mask[first] = False\n",
    "        batch_mask[i] = mask\n",
    "        \n",
    "        for j in range(nb_class):\n",
    "            idx = (sample == j)\n",
    "            eidx = np.random.choice(data.shape[1], np.sum(sample == j), False)\n",
    "            imgs = data[perm[i, j], eidx]\n",
    "            \n",
    "            batch_x[i, idx, :, :, 0] = np.rot90(imgs, np.random.randint(4), axes=(1,2))\n",
    "\n",
    "    # generate previous label\n",
    "    batch_p = make_input(batch_y, nb_batch, nb_class)\n",
    "    \n",
    "    return batch_x, batch_p, batch_y, batch_mask"
   ]
  },
  {
   "cell_type": "code",
   "execution_count": 6,
   "metadata": {
    "collapsed": true
   },
   "outputs": [],
   "source": [
    "nb_episode = 32\n",
    "nb_class = 5"
   ]
  },
  {
   "cell_type": "code",
   "execution_count": 7,
   "metadata": {
    "collapsed": true
   },
   "outputs": [],
   "source": [
    "def embd_net(inp, scope, reuse=False, stop_grad=False):\n",
    "    nb_episode = int(inp.shape[1])\n",
    "    \n",
    "    with tf.variable_scope(scope) as varscope:\n",
    "        if reuse: \n",
    "            varscope.reuse_variables()\n",
    "\n",
    "        _inp = tf.reshape(inp, [-1, 28, 28, 1])\n",
    "        cur_input = _inp\n",
    "        cur_filters = 1\n",
    "        \n",
    "        for i in range(4):\n",
    "            with tf.variable_scope('conv'+str(i)):\n",
    "                W = tf.get_variable('W', [3, 3, cur_filters, 64])\n",
    "                beta = tf.get_variable('beta', [64], initializer=tf.constant_initializer(0.0))\n",
    "                gamma = tf.get_variable('gamma', [64], initializer=tf.constant_initializer(1.0))\n",
    "\n",
    "                cur_filters = 64\n",
    "                pre_norm = tf.nn.conv2d(cur_input, W, strides=[1,1,1,1], padding='SAME')\n",
    "                mean, variance = tf.nn.moments(pre_norm, [0, 1, 2])\n",
    "                post_norm = tf.nn.batch_normalization(pre_norm, mean, variance, beta, gamma, variance_epsilon = 1e-10)\n",
    "                conv = tf.nn.relu(post_norm)\n",
    "                cur_input = tf.nn.max_pool(conv, ksize=[1, 2, 2, 1], strides=[1, 2, 2, 1], padding = 'VALID')\n",
    "\n",
    "        if stop_grad:\n",
    "            squeezed = tf.squeeze(cur_input, [1,2])\n",
    "            output = tf.stop_gradient(tf.reshape(squeezed, [-1, nb_episode, 64]))\n",
    "        else:\n",
    "            squeezed = tf.squeeze(cur_input, [1,2])\n",
    "            output = tf.reshape(squeezed, [-1, nb_episode, 64])\n",
    "            \n",
    "    return output"
   ]
  },
  {
   "cell_type": "code",
   "execution_count": 8,
   "metadata": {
    "collapsed": true
   },
   "outputs": [],
   "source": [
    "def calual_conv_with_activation(inp, nb_input, nb_output, dilation_rate):\n",
    "        Wf = tf.get_variable('W_filter', [2, nb_input, nb_output])\n",
    "        bf = tf.get_variable('b_filter', [nb_output])    \n",
    "        Wg = tf.get_variable('W_gate', [2, nb_input, nb_output])\n",
    "        bg = tf.get_variable('b_gate', [nb_output])            \n",
    "        \n",
    "        x = tf.pad(inp, [[0, 0], [dilation_rate, 0], [0, 0]])\n",
    "        \n",
    "        xf = tf.nn.convolution(x, Wf, strides=[1,], dilation_rate=[dilation_rate,], padding='VALID')\n",
    "        xf = tf.nn.bias_add(xf, bf)\n",
    "        \n",
    "        xg = tf.nn.convolution(x, Wg, strides=[1,], dilation_rate=[dilation_rate,], padding='VALID')\n",
    "        xg = tf.nn.bias_add(xg, bg)\n",
    "        \n",
    "        out = tf.tanh(xf) * tf.sigmoid(xg)\n",
    "        \n",
    "        return out"
   ]
  },
  {
   "cell_type": "code",
   "execution_count": 9,
   "metadata": {
    "collapsed": true
   },
   "outputs": [],
   "source": [
    "def res_block(inp, nb_dim, dilation_rate, scope):\n",
    "    with tf.variable_scope(scope):\n",
    "        x = calual_conv_with_activation(inp, nb_dim, nb_dim, dilation_rate)\n",
    "        x = x + inp\n",
    "    return x"
   ]
  },
  {
   "cell_type": "code",
   "execution_count": 10,
   "metadata": {
    "collapsed": true
   },
   "outputs": [],
   "source": [
    "def dense_block(inp, nb_dim, dilation_rate, scope):\n",
    "    with tf.variable_scope(scope):\n",
    "        x = calual_conv_with_activation(inp, nb_dim, 128, dilation_rate)\n",
    "        x = res_block(x, 128, dilation_rate, 'res_01')\n",
    "        x = res_block(x, 128, dilation_rate, 'res_02')\n",
    "        \n",
    "        x = tf.concat((inp, x), axis=2)\n",
    "        \n",
    "        return x"
   ]
  },
  {
   "cell_type": "code",
   "execution_count": 11,
   "metadata": {
    "collapsed": true
   },
   "outputs": [],
   "source": [
    "def build_tcml(inp, label, nb_class, scope, reuse=False, stop_grad=False):\n",
    "    with tf.variable_scope(scope):\n",
    "        with tf.variable_scope('preprocess'):\n",
    "            x = tf.concat((inp, label), axis=2)\n",
    "\n",
    "        nb_channel = int(x.shape[2])\n",
    "        x = dense_block(x, nb_channel+0*128, 1, 'dense_01')\n",
    "        x = dense_block(x, nb_channel+1*128, 2, 'dense_02')\n",
    "        x = dense_block(x, nb_channel+2*128, 4, 'dense_03')\n",
    "        x = dense_block(x, nb_channel+3*128, 8, 'dense_04')\n",
    "        x = dense_block(x, nb_channel+4*128, 16, 'dense_05')\n",
    "        x = dense_block(x, nb_channel+5*128, 1, 'dense_06',)\n",
    "        x = dense_block(x, nb_channel+6*128, 2, 'dense_07',)\n",
    "        x = dense_block(x, nb_channel+7*128, 4, 'dense_08')\n",
    "        x = dense_block(x, nb_channel+8*128, 8, 'dense_09')\n",
    "        x = dense_block(x, nb_channel+9*128, 16, 'dense_10')\n",
    "        \n",
    "        with tf.variable_scope('postprocess'):\n",
    "            W1 = tf.get_variable('W1', [1, nb_channel+10*128, 512])\n",
    "            b1 = tf.get_variable('b1', [512])\n",
    "            W2 = tf.get_variable('W2', [1, 512, nb_class])\n",
    "            b2 = tf.get_variable('b2', [nb_class])\n",
    "\n",
    "            x = tf.nn.conv1d(x, W1, stride=1, padding='SAME')\n",
    "            x = tf.nn.bias_add(x, b1)\n",
    "            x = tf.nn.relu(x)\n",
    "            \n",
    "            x = tf.nn.conv1d(x, W2, stride=1, padding='SAME')            \n",
    "            x = tf.nn.bias_add(x, b2)\n",
    "\n",
    "    return x"
   ]
  },
  {
   "cell_type": "code",
   "execution_count": 12,
   "metadata": {
    "collapsed": true
   },
   "outputs": [],
   "source": [
    "def build(img, prev_label, nb_class):\n",
    "    feature = embd_net(img, 'embd')\n",
    "    tcml = build_tcml(feature, prev_label, nb_class, 'TCML')\n",
    "    \n",
    "    return tcml"
   ]
  },
  {
   "cell_type": "code",
   "execution_count": 13,
   "metadata": {
    "scrolled": false
   },
   "outputs": [
    {
     "name": "stderr",
     "output_type": "stream",
     "text": [
      "/opt/conda/lib/python3.5/site-packages/tensorflow/python/ops/gradients_impl.py:93: UserWarning: Converting sparse IndexedSlices to a dense Tensor of unknown shape. This may consume a large amount of memory.\n",
      "  \"Converting sparse IndexedSlices to a dense Tensor of unknown shape. \"\n"
     ]
    }
   ],
   "source": [
    "img = tf.placeholder(tf.float32, shape=[None, nb_episode, 28, 28, 1])\n",
    "prev_label = tf.placeholder(tf.float32, shape=[None, nb_episode, 5])\n",
    "train_label = tf.placeholder(tf.int32, shape=[None, nb_episode])\n",
    "valid_label = tf.placeholder(tf.bool, shape=[None, nb_episode])\n",
    "\n",
    "net = build(img, prev_label, nb_class)\n",
    "\n",
    "with tf.variable_scope('loss'):\n",
    "    y = tf.boolean_mask(net, valid_label)\n",
    "    t = tf.to_int32(tf.boolean_mask(train_label, valid_label))\n",
    "\n",
    "    cross_entropy = tf.nn.sparse_softmax_cross_entropy_with_logits(labels=t, logits=y)\n",
    "    loss = tf.reduce_mean(cross_entropy, name='cross_entropy_mean')\n",
    "    \n",
    "    train_step = tf.train.AdamOptimizer().minimize(loss)"
   ]
  },
  {
   "cell_type": "code",
   "execution_count": 14,
   "metadata": {
    "collapsed": true
   },
   "outputs": [],
   "source": [
    "sess = tf.InteractiveSession()"
   ]
  },
  {
   "cell_type": "code",
   "execution_count": 15,
   "metadata": {
    "collapsed": true
   },
   "outputs": [],
   "source": [
    "tf.global_variables_initializer().run()"
   ]
  },
  {
   "cell_type": "code",
   "execution_count": 16,
   "metadata": {
    "collapsed": true
   },
   "outputs": [],
   "source": [
    "summary_writer = tf.summary.FileWriter('./log', graph=sess.graph)"
   ]
  },
  {
   "cell_type": "code",
   "execution_count": 21,
   "metadata": {
    "scrolled": true
   },
   "outputs": [
    {
     "name": "stdout",
     "output_type": "stream",
     "text": [
      "Epoch: 0001 cost= 1.607021487\n",
      "Epoch: 0002 cost= 1.598789171\n",
      "Epoch: 0003 cost= 1.586519957\n",
      "Epoch: 0004 cost= 1.584179942\n",
      "Epoch: 0005 cost= 1.576163081\n",
      "Epoch: 0006 cost= 1.576998679\n",
      "Epoch: 0007 cost= 1.569481639\n",
      "Epoch: 0008 cost= 1.563840433\n",
      "Epoch: 0009 cost= 1.570234946\n",
      "Epoch: 0010 cost= 1.555669765\n",
      "Epoch: 0011 cost= 1.556260188\n",
      "Epoch: 0012 cost= 1.555669908\n",
      "Epoch: 0013 cost= 1.543887055\n",
      "Epoch: 0014 cost= 1.551758381\n",
      "Epoch: 0015 cost= 1.545713254\n",
      "Epoch: 0016 cost= 1.556727906\n",
      "Epoch: 0017 cost= 1.536509208\n",
      "Epoch: 0018 cost= 1.538779318\n",
      "Epoch: 0019 cost= 1.543829079\n",
      "Epoch: 0020 cost= 1.534593582\n",
      "Epoch: 0021 cost= 1.538359694\n",
      "Epoch: 0022 cost= 1.540788492\n",
      "Epoch: 0023 cost= 1.527727787\n",
      "Epoch: 0024 cost= 1.537343180\n",
      "Epoch: 0025 cost= 1.527602927\n",
      "Epoch: 0026 cost= 1.536254172\n",
      "Epoch: 0027 cost= 1.531734725\n",
      "Epoch: 0028 cost= 1.524831975\n",
      "Epoch: 0029 cost= 1.525787954\n",
      "Epoch: 0030 cost= 1.529535981\n",
      "Epoch: 0031 cost= 1.529014711\n",
      "Epoch: 0032 cost= 1.530306478\n",
      "Epoch: 0033 cost= 1.522425048\n",
      "Epoch: 0034 cost= 1.528084850\n",
      "Epoch: 0035 cost= 1.525770481\n",
      "Epoch: 0036 cost= 1.528936855\n",
      "Epoch: 0037 cost= 1.524232785\n",
      "Epoch: 0038 cost= 1.523505374\n",
      "Epoch: 0039 cost= 1.529396780\n",
      "Epoch: 0040 cost= 1.526719809\n",
      "Epoch: 0041 cost= 1.518850056\n",
      "Epoch: 0042 cost= 1.526300259\n",
      "Epoch: 0043 cost= 1.529907310\n",
      "Epoch: 0044 cost= 1.523301550\n",
      "Epoch: 0045 cost= 1.519612900\n",
      "Epoch: 0046 cost= 1.523288639\n",
      "Epoch: 0047 cost= 1.517551438\n",
      "Epoch: 0048 cost= 1.518834865\n",
      "Epoch: 0049 cost= 1.513236944\n",
      "Epoch: 0050 cost= 1.509556802\n",
      "Epoch: 0051 cost= 1.515894151\n",
      "Epoch: 0052 cost= 1.517467296\n",
      "Epoch: 0053 cost= 1.525907966\n",
      "Epoch: 0054 cost= 1.520869664\n",
      "Epoch: 0055 cost= 1.519908965\n",
      "Epoch: 0056 cost= 1.520185498\n",
      "Epoch: 0057 cost= 1.509252330\n",
      "Epoch: 0058 cost= 1.523122895\n",
      "Epoch: 0059 cost= 1.519845871\n",
      "Epoch: 0060 cost= 1.513562604\n",
      "Epoch: 0061 cost= 1.514602677\n",
      "Epoch: 0062 cost= 1.511283084\n",
      "Epoch: 0063 cost= 1.516177479\n",
      "Epoch: 0064 cost= 1.514427225\n",
      "Epoch: 0065 cost= 1.522689509\n",
      "Epoch: 0066 cost= 1.521617937\n",
      "Epoch: 0067 cost= 1.519902384\n",
      "Epoch: 0068 cost= 1.508270641\n",
      "Epoch: 0069 cost= 1.519599251\n",
      "Epoch: 0070 cost= 1.522010394\n",
      "Epoch: 0071 cost= 1.520660539\n",
      "Epoch: 0072 cost= 1.509736514\n",
      "Epoch: 0073 cost= 1.519543219\n",
      "Epoch: 0074 cost= 1.518582408\n",
      "Epoch: 0075 cost= 1.515455274\n",
      "Epoch: 0076 cost= 1.513283066\n",
      "Epoch: 0077 cost= 1.513295225\n",
      "Epoch: 0078 cost= 1.519390090\n",
      "Epoch: 0079 cost= 1.517599372\n",
      "Epoch: 0080 cost= 1.510533071\n",
      "Epoch: 0081 cost= 1.518592211\n",
      "Epoch: 0082 cost= 1.511600184\n",
      "Epoch: 0083 cost= 1.512452090\n",
      "Epoch: 0084 cost= 1.520691764\n",
      "Epoch: 0085 cost= 1.520824718\n",
      "Epoch: 0086 cost= 1.512619857\n",
      "Epoch: 0087 cost= 1.511298056\n",
      "Epoch: 0088 cost= 1.525036728\n",
      "Epoch: 0089 cost= 1.519514112\n",
      "Epoch: 0090 cost= 1.516297881\n",
      "Epoch: 0091 cost= 1.511921779\n",
      "Epoch: 0092 cost= 1.510583719\n",
      "Epoch: 0093 cost= 1.511486653\n",
      "Epoch: 0094 cost= 1.511538029\n",
      "Epoch: 0095 cost= 1.518668620\n",
      "Epoch: 0096 cost= 1.503323750\n",
      "Epoch: 0097 cost= 1.503815448\n",
      "Epoch: 0098 cost= 1.511389736\n",
      "Epoch: 0099 cost= 1.510264413\n",
      "Epoch: 0100 cost= 1.511005803\n",
      "Epoch: 0101 cost= 1.515395157\n",
      "Epoch: 0102 cost= 1.510258234\n",
      "Epoch: 0103 cost= 1.507657095\n",
      "Epoch: 0104 cost= 1.524272454\n",
      "Epoch: 0105 cost= 1.503745011\n",
      "Epoch: 0106 cost= 1.515827835\n",
      "Epoch: 0107 cost= 1.514531060\n",
      "Epoch: 0108 cost= 1.519573140\n",
      "Epoch: 0109 cost= 1.511671046\n",
      "Epoch: 0110 cost= 1.507404780\n",
      "Epoch: 0111 cost= 1.513355398\n",
      "Epoch: 0112 cost= 1.523357491\n",
      "Epoch: 0113 cost= 1.516942028\n",
      "Epoch: 0114 cost= 1.514838680\n",
      "Epoch: 0115 cost= 1.512131274\n",
      "Epoch: 0116 cost= 1.526210225\n",
      "Epoch: 0117 cost= 1.518699980\n",
      "Epoch: 0118 cost= 1.540796868\n",
      "Epoch: 0119 cost= 1.529694490\n",
      "Epoch: 0120 cost= 1.520293951\n",
      "Epoch: 0121 cost= 1.520722838\n",
      "Epoch: 0122 cost= 1.519496806\n",
      "Epoch: 0123 cost= 1.515993472\n",
      "Epoch: 0124 cost= 1.512880917\n",
      "Epoch: 0125 cost= 1.507649227\n",
      "Epoch: 0126 cost= 1.512164680\n",
      "Epoch: 0127 cost= 1.517937358\n",
      "Epoch: 0128 cost= 1.515086885\n",
      "Epoch: 0129 cost= 1.507446007\n",
      "Epoch: 0130 cost= 1.519477197\n",
      "Epoch: 0131 cost= 1.518458172\n",
      "Epoch: 0132 cost= 1.497416528\n",
      "Epoch: 0133 cost= 1.519154684\n",
      "Epoch: 0134 cost= 1.514004183\n",
      "Epoch: 0135 cost= 1.506274986\n",
      "Epoch: 0136 cost= 1.511409144\n",
      "Epoch: 0137 cost= 1.517069753\n",
      "Epoch: 0138 cost= 1.508104237\n",
      "Epoch: 0139 cost= 1.515584036\n",
      "Epoch: 0140 cost= 1.513473849\n",
      "Epoch: 0141 cost= 1.509605944\n",
      "Epoch: 0142 cost= 1.512296685\n",
      "Epoch: 0143 cost= 1.519237892\n",
      "Epoch: 0144 cost= 1.509205715\n",
      "Epoch: 0145 cost= 1.519266947\n",
      "Epoch: 0146 cost= 1.517588528\n",
      "Epoch: 0147 cost= 1.510094734\n",
      "Epoch: 0148 cost= 1.517777570\n",
      "Epoch: 0149 cost= 1.521349152\n",
      "Epoch: 0150 cost= 1.517956940\n",
      "Epoch: 0151 cost= 1.517890402\n",
      "Epoch: 0152 cost= 1.518372703\n",
      "Epoch: 0153 cost= 1.521214751\n",
      "Epoch: 0154 cost= 1.517164175\n",
      "Epoch: 0155 cost= 1.507969324\n",
      "Epoch: 0156 cost= 1.505886579\n",
      "Epoch: 0157 cost= 1.512930278\n",
      "Epoch: 0158 cost= 1.516717736\n",
      "Epoch: 0159 cost= 1.518404190\n",
      "Epoch: 0160 cost= 1.507887240\n",
      "Epoch: 0161 cost= 1.515825506\n",
      "Epoch: 0162 cost= 1.507950628\n",
      "Epoch: 0163 cost= 1.514438049\n",
      "Epoch: 0164 cost= 1.508416077\n",
      "Epoch: 0165 cost= 1.501166026\n",
      "Epoch: 0166 cost= 1.511913983\n",
      "Epoch: 0167 cost= 1.516695861\n",
      "Epoch: 0168 cost= 1.520439700\n",
      "Epoch: 0169 cost= 1.509044413\n",
      "Epoch: 0170 cost= 1.518840615\n",
      "Epoch: 0171 cost= 1.519659177\n",
      "Epoch: 0172 cost= 1.516714052\n",
      "Epoch: 0173 cost= 1.509519251\n",
      "Epoch: 0174 cost= 1.513571807\n",
      "Epoch: 0175 cost= 1.514164372\n",
      "Epoch: 0176 cost= 1.514247914\n",
      "Epoch: 0177 cost= 1.508903861\n",
      "Epoch: 0178 cost= 1.507455003\n",
      "Epoch: 0179 cost= 1.509471357\n",
      "Epoch: 0180 cost= 1.516533943\n",
      "Epoch: 0181 cost= 1.519619918\n",
      "Epoch: 0182 cost= 1.498992697\n",
      "Epoch: 0183 cost= 1.507732574\n",
      "Epoch: 0184 cost= 1.516869577\n",
      "Epoch: 0185 cost= 1.512805104\n",
      "Epoch: 0186 cost= 1.512537952\n",
      "Epoch: 0187 cost= 1.514654565\n",
      "Epoch: 0188 cost= 1.515981948\n",
      "Epoch: 0189 cost= 1.504376793\n",
      "Epoch: 0190 cost= 1.511056542\n",
      "Epoch: 0191 cost= 1.505755754\n",
      "Epoch: 0192 cost= 1.511242739\n",
      "Epoch: 0193 cost= 1.516296283\n"
     ]
    },
    {
     "ename": "KeyboardInterrupt",
     "evalue": "",
     "output_type": "error",
     "traceback": [
      "\u001b[0;31m---------------------------------------------------------------------------\u001b[0m",
      "\u001b[0;31mKeyboardInterrupt\u001b[0m                         Traceback (most recent call last)",
      "\u001b[0;32m<ipython-input-21-f0d43d9a3d3b>\u001b[0m in \u001b[0;36m<module>\u001b[0;34m()\u001b[0m\n\u001b[1;32m     38\u001b[0m         }\n\u001b[1;32m     39\u001b[0m \u001b[0;34m\u001b[0m\u001b[0m\n\u001b[0;32m---> 40\u001b[0;31m         \u001b[0m_\u001b[0m\u001b[0;34m,\u001b[0m \u001b[0mret\u001b[0m \u001b[0;34m=\u001b[0m \u001b[0msess\u001b[0m\u001b[0;34m.\u001b[0m\u001b[0mrun\u001b[0m\u001b[0;34m(\u001b[0m\u001b[0;34m[\u001b[0m\u001b[0mtrain_step\u001b[0m\u001b[0;34m,\u001b[0m \u001b[0mloss\u001b[0m\u001b[0;34m]\u001b[0m\u001b[0;34m,\u001b[0m \u001b[0mfeed_dict\u001b[0m\u001b[0;34m=\u001b[0m\u001b[0mfeed_dict\u001b[0m\u001b[0;34m)\u001b[0m\u001b[0;34m\u001b[0m\u001b[0m\n\u001b[0m\u001b[1;32m     41\u001b[0m \u001b[0;34m\u001b[0m\u001b[0m\n\u001b[1;32m     42\u001b[0m         \u001b[0mavg_cost\u001b[0m \u001b[0;34m+=\u001b[0m \u001b[0mret\u001b[0m \u001b[0;34m/\u001b[0m \u001b[0mnb_iter\u001b[0m\u001b[0;34m\u001b[0m\u001b[0m\n",
      "\u001b[0;32m/opt/conda/lib/python3.5/site-packages/tensorflow/python/client/session.py\u001b[0m in \u001b[0;36mrun\u001b[0;34m(self, fetches, feed_dict, options, run_metadata)\u001b[0m\n\u001b[1;32m    787\u001b[0m     \u001b[0;32mtry\u001b[0m\u001b[0;34m:\u001b[0m\u001b[0;34m\u001b[0m\u001b[0m\n\u001b[1;32m    788\u001b[0m       result = self._run(None, fetches, feed_dict, options_ptr,\n\u001b[0;32m--> 789\u001b[0;31m                          run_metadata_ptr)\n\u001b[0m\u001b[1;32m    790\u001b[0m       \u001b[0;32mif\u001b[0m \u001b[0mrun_metadata\u001b[0m\u001b[0;34m:\u001b[0m\u001b[0;34m\u001b[0m\u001b[0m\n\u001b[1;32m    791\u001b[0m         \u001b[0mproto_data\u001b[0m \u001b[0;34m=\u001b[0m \u001b[0mtf_session\u001b[0m\u001b[0;34m.\u001b[0m\u001b[0mTF_GetBuffer\u001b[0m\u001b[0;34m(\u001b[0m\u001b[0mrun_metadata_ptr\u001b[0m\u001b[0;34m)\u001b[0m\u001b[0;34m\u001b[0m\u001b[0m\n",
      "\u001b[0;32m/opt/conda/lib/python3.5/site-packages/tensorflow/python/client/session.py\u001b[0m in \u001b[0;36m_run\u001b[0;34m(self, handle, fetches, feed_dict, options, run_metadata)\u001b[0m\n\u001b[1;32m    995\u001b[0m     \u001b[0;32mif\u001b[0m \u001b[0mfinal_fetches\u001b[0m \u001b[0;32mor\u001b[0m \u001b[0mfinal_targets\u001b[0m\u001b[0;34m:\u001b[0m\u001b[0;34m\u001b[0m\u001b[0m\n\u001b[1;32m    996\u001b[0m       results = self._do_run(handle, final_targets, final_fetches,\n\u001b[0;32m--> 997\u001b[0;31m                              feed_dict_string, options, run_metadata)\n\u001b[0m\u001b[1;32m    998\u001b[0m     \u001b[0;32melse\u001b[0m\u001b[0;34m:\u001b[0m\u001b[0;34m\u001b[0m\u001b[0m\n\u001b[1;32m    999\u001b[0m       \u001b[0mresults\u001b[0m \u001b[0;34m=\u001b[0m \u001b[0;34m[\u001b[0m\u001b[0;34m]\u001b[0m\u001b[0;34m\u001b[0m\u001b[0m\n",
      "\u001b[0;32m/opt/conda/lib/python3.5/site-packages/tensorflow/python/client/session.py\u001b[0m in \u001b[0;36m_do_run\u001b[0;34m(self, handle, target_list, fetch_list, feed_dict, options, run_metadata)\u001b[0m\n\u001b[1;32m   1130\u001b[0m     \u001b[0;32mif\u001b[0m \u001b[0mhandle\u001b[0m \u001b[0;32mis\u001b[0m \u001b[0;32mNone\u001b[0m\u001b[0;34m:\u001b[0m\u001b[0;34m\u001b[0m\u001b[0m\n\u001b[1;32m   1131\u001b[0m       return self._do_call(_run_fn, self._session, feed_dict, fetch_list,\n\u001b[0;32m-> 1132\u001b[0;31m                            target_list, options, run_metadata)\n\u001b[0m\u001b[1;32m   1133\u001b[0m     \u001b[0;32melse\u001b[0m\u001b[0;34m:\u001b[0m\u001b[0;34m\u001b[0m\u001b[0m\n\u001b[1;32m   1134\u001b[0m       return self._do_call(_prun_fn, self._session, handle, feed_dict,\n",
      "\u001b[0;32m/opt/conda/lib/python3.5/site-packages/tensorflow/python/client/session.py\u001b[0m in \u001b[0;36m_do_call\u001b[0;34m(self, fn, *args)\u001b[0m\n\u001b[1;32m   1137\u001b[0m   \u001b[0;32mdef\u001b[0m \u001b[0m_do_call\u001b[0m\u001b[0;34m(\u001b[0m\u001b[0mself\u001b[0m\u001b[0;34m,\u001b[0m \u001b[0mfn\u001b[0m\u001b[0;34m,\u001b[0m \u001b[0;34m*\u001b[0m\u001b[0margs\u001b[0m\u001b[0;34m)\u001b[0m\u001b[0;34m:\u001b[0m\u001b[0;34m\u001b[0m\u001b[0m\n\u001b[1;32m   1138\u001b[0m     \u001b[0;32mtry\u001b[0m\u001b[0;34m:\u001b[0m\u001b[0;34m\u001b[0m\u001b[0m\n\u001b[0;32m-> 1139\u001b[0;31m       \u001b[0;32mreturn\u001b[0m \u001b[0mfn\u001b[0m\u001b[0;34m(\u001b[0m\u001b[0;34m*\u001b[0m\u001b[0margs\u001b[0m\u001b[0;34m)\u001b[0m\u001b[0;34m\u001b[0m\u001b[0m\n\u001b[0m\u001b[1;32m   1140\u001b[0m     \u001b[0;32mexcept\u001b[0m \u001b[0merrors\u001b[0m\u001b[0;34m.\u001b[0m\u001b[0mOpError\u001b[0m \u001b[0;32mas\u001b[0m \u001b[0me\u001b[0m\u001b[0;34m:\u001b[0m\u001b[0;34m\u001b[0m\u001b[0m\n\u001b[1;32m   1141\u001b[0m       \u001b[0mmessage\u001b[0m \u001b[0;34m=\u001b[0m \u001b[0mcompat\u001b[0m\u001b[0;34m.\u001b[0m\u001b[0mas_text\u001b[0m\u001b[0;34m(\u001b[0m\u001b[0me\u001b[0m\u001b[0;34m.\u001b[0m\u001b[0mmessage\u001b[0m\u001b[0;34m)\u001b[0m\u001b[0;34m\u001b[0m\u001b[0m\n",
      "\u001b[0;32m/opt/conda/lib/python3.5/site-packages/tensorflow/python/client/session.py\u001b[0m in \u001b[0;36m_run_fn\u001b[0;34m(session, feed_dict, fetch_list, target_list, options, run_metadata)\u001b[0m\n\u001b[1;32m   1119\u001b[0m         return tf_session.TF_Run(session, options,\n\u001b[1;32m   1120\u001b[0m                                  \u001b[0mfeed_dict\u001b[0m\u001b[0;34m,\u001b[0m \u001b[0mfetch_list\u001b[0m\u001b[0;34m,\u001b[0m \u001b[0mtarget_list\u001b[0m\u001b[0;34m,\u001b[0m\u001b[0;34m\u001b[0m\u001b[0m\n\u001b[0;32m-> 1121\u001b[0;31m                                  status, run_metadata)\n\u001b[0m\u001b[1;32m   1122\u001b[0m \u001b[0;34m\u001b[0m\u001b[0m\n\u001b[1;32m   1123\u001b[0m     \u001b[0;32mdef\u001b[0m \u001b[0m_prun_fn\u001b[0m\u001b[0;34m(\u001b[0m\u001b[0msession\u001b[0m\u001b[0;34m,\u001b[0m \u001b[0mhandle\u001b[0m\u001b[0;34m,\u001b[0m \u001b[0mfeed_dict\u001b[0m\u001b[0;34m,\u001b[0m \u001b[0mfetch_list\u001b[0m\u001b[0;34m)\u001b[0m\u001b[0;34m:\u001b[0m\u001b[0;34m\u001b[0m\u001b[0m\n",
      "\u001b[0;31mKeyboardInterrupt\u001b[0m: "
     ]
    }
   ],
   "source": [
    "nb_class_total = train_data.shape[0]\n",
    "prev_perm = None\n",
    "nb_epoch = 1000\n",
    "nb_batch = 8\n",
    "display_step = 1\n",
    "\n",
    "for epoch in range(nb_epoch):\n",
    "    # random chice\n",
    "    perm = np.random.permutation(nb_class_total)\n",
    "\n",
    "    # concat previous rest classes and current classes\n",
    "    if prev_perm is not None and len(prev_perm) > 0:\n",
    "        perm = np.concatenate((prev_perm, perm))\n",
    "\n",
    "    # the current number of classes\n",
    "    nb_iter = len(perm) // (nb_batch * nb_class)\n",
    "    nb_total = nb_iter * nb_batch * nb_class\n",
    "    \n",
    "    curr_perm = perm[:nb_total]\n",
    "    \n",
    "    # rest classes\n",
    "    prev_perm = perm[nb_total:]\n",
    "    \n",
    "    avg_cost = 0.\n",
    "    \n",
    "    for i in range(0, nb_iter):\n",
    "        idx = i * nb_batch * nb_class\n",
    "        _perm = perm[idx:idx+nb_batch * nb_class]\n",
    "        _perm = _perm.reshape(nb_batch, nb_class)\n",
    "        \n",
    "        batch_x, batch_p, batch_y, batch_m = get_minibatch(train_data, _perm, nb_episode)\n",
    "        \n",
    "        feed_dict = {\n",
    "            img: batch_x,\n",
    "            prev_label: batch_p,\n",
    "            train_label: batch_y,\n",
    "            valid_label: batch_m\n",
    "        }\n",
    "        \n",
    "        _, ret = sess.run([train_step, loss], feed_dict=feed_dict)\n",
    "        \n",
    "        avg_cost += ret / nb_iter\n",
    "        \n",
    "    if epoch % display_step == 0:\n",
    "        print(\"Epoch:\", '%04d' % (epoch+1), \"cost=\", \\\n",
    "            \"{:.9f}\".format(avg_cost))"
   ]
  },
  {
   "cell_type": "code",
   "execution_count": null,
   "metadata": {
    "collapsed": true
   },
   "outputs": [],
   "source": []
  },
  {
   "cell_type": "code",
   "execution_count": null,
   "metadata": {
    "collapsed": true
   },
   "outputs": [],
   "source": []
  }
 ],
 "metadata": {
  "kernelspec": {
   "display_name": "Python 3",
   "language": "python",
   "name": "python3"
  },
  "language_info": {
   "codemirror_mode": {
    "name": "ipython",
    "version": 3
   },
   "file_extension": ".py",
   "mimetype": "text/x-python",
   "name": "python",
   "nbconvert_exporter": "python",
   "pygments_lexer": "ipython3",
   "version": "3.5.2"
  },
  "widgets": {
   "state": {},
   "version": "1.1.2"
  }
 },
 "nbformat": 4,
 "nbformat_minor": 2
}
